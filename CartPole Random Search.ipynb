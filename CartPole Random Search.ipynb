{
 "cells": [
  {
   "cell_type": "markdown",
   "metadata": {},
   "source": [
    "# CartPole solution using Random Search"
   ]
  },
  {
   "cell_type": "markdown",
   "metadata": {},
   "source": [
    "Here we will be looking a very simple solution for Open AI's CartPole environment by simply doing a random search of a linear model. We will take our state and apply a weight to it. If this outcome is greater than 0 we will move in one direction, less than 0 and we move in the other.\n",
    "\n"
   ]
  },
  {
   "cell_type": "markdown",
   "metadata": {},
   "source": [
    "<h2>Implimentation</h2>\n",
    "\n",
    "First we will add in our helper methods for carrying out the search.\n",
    "\n",
    "getAction: takes in the vector of weights and applies them to the current state. It then returns the desired action based on the dot product\n"
   ]
  },
  {
   "cell_type": "code",
   "execution_count": 2,
   "metadata": {
    "collapsed": true
   },
   "outputs": [],
   "source": [
    "import gym\n",
    "import numpy as np\n",
    "import matplotlib.pyplot as plt\n",
    "\n",
    "def get_action(s,w):\n",
    "    return 1 if s.dot(w) > 0 else 0"
   ]
  },
  {
   "cell_type": "markdown",
   "metadata": {},
   "source": [
    "\n",
    "play_one_episode: \n",
    "\n",
    "It takes in environment, a set of parameters and a boolean to turn indicate whether or not to play a video of the training. When this is turned on it slows down the code a lot so we only use it to view the final episode and see how well it does.Next, Carry out 200 iterations(time frames) and apply the get_action method to play the episode with the current set of parameters. After an action update the key information such as observation, reward, done and info.\n"
   ]
  },
  {
   "cell_type": "code",
   "execution_count": 3,
   "metadata": {
    "collapsed": true
   },
   "outputs": [],
   "source": [
    "def play_one_episode(env, params, render):\n",
    "    \n",
    "    observation = env.reset()\n",
    "    done = False\n",
    "    t = 0\n",
    "    \n",
    "    while t < 200 and not done:\n",
    "        \n",
    "        if render:\n",
    "            env.render()\n",
    "            \n",
    "        t += 1\n",
    "        action = get_action(observation, params)\n",
    "        observation, reward, done, info = env.step(action)\n",
    "        \n",
    "        if done:\n",
    "            break\n",
    "            \n",
    "    return t"
   ]
  },
  {
   "cell_type": "markdown",
   "metadata": {},
   "source": [
    "\n",
    "play_multiple_episodes:\n",
    "\n",
    "This will be the main training loop. This will simply run the previous method for T times. We also have an episode lengths array that will keep track of how many time frames our cart pole is lasting. The goal is for the cart pole to last for the entire 200 time frames of the episode. At the end we output the average time the cart pole is staying up"
   ]
  },
  {
   "cell_type": "code",
   "execution_count": 4,
   "metadata": {
    "collapsed": true
   },
   "outputs": [],
   "source": [
    "def play_multiple_episodes(env, T, params):\n",
    "    episode_lengths = np.empty(T)\n",
    "    \n",
    "    for i in range(T):\n",
    "        episode_lengths[i] = play_one_episode(env, params, False)\n",
    "    \n",
    "    avg_length = episode_lengths.mean()\n",
    "    print(\"avg length:\", avg_length)\n",
    "    return avg_length"
   ]
  },
  {
   "cell_type": "markdown",
   "metadata": {},
   "source": [
    "\n",
    "Now for the fun part, the search algorithm. Firstly, we want to keep track of the episode lengths, the best length so far and the current parameters. Then we will run 100 episodes. For each new episode we will generate a new random set of parameters (weights) and see how it gets on. If the average length of the current batch of episodes with the new random parameters is better than the previous ones, we will update our best parameters. After 100 episodes we will hopefully have discovered a good set of parameters that can keep the cart pole upright for the 200 time frames of an episode purly through exploration."
   ]
  },
  {
   "cell_type": "code",
   "execution_count": 5,
   "metadata": {
    "collapsed": true
   },
   "outputs": [],
   "source": [
    "def random_search(env):\n",
    "    episode_lengths = []\n",
    "    best = 0 \n",
    "    params = None\n",
    "    \n",
    "    for i in range(100):\n",
    "        new_params = np.random.random(4)*2 - 1\n",
    "        avg_length = play_multiple_episodes(env, 100, new_params)\n",
    "        episode_lengths.append(avg_length)\n",
    "        \n",
    "        if avg_length > best:\n",
    "            params = new_params\n",
    "            best = avg_length\n",
    "            \n",
    "    return episode_lengths, params"
   ]
  },
  {
   "cell_type": "markdown",
   "metadata": {},
   "source": [
    "\n",
    "Finally we will add our main section. Here we will call everything and run a final episode when we get the results of our random search to test its efficiency"
   ]
  },
  {
   "cell_type": "code",
   "execution_count": 6,
   "metadata": {},
   "outputs": [
    {
     "name": "stderr",
     "output_type": "stream",
     "text": [
      "[2017-09-29 12:34:09,802] Making new env: CartPole-v0\n"
     ]
    },
    {
     "name": "stdout",
     "output_type": "stream",
     "text": [
      "('avg length:', 8.7799999999999994)\n",
      "('avg length:', 37.210000000000001)\n",
      "('avg length:', 14.279999999999999)\n",
      "('avg length:', 100.76000000000001)\n",
      "('avg length:', 9.4700000000000006)\n",
      "('avg length:', 69.689999999999998)\n",
      "('avg length:', 9.1099999999999994)\n",
      "('avg length:', 9.0700000000000003)\n",
      "('avg length:', 109.65000000000001)\n",
      "('avg length:', 42.240000000000002)\n",
      "('avg length:', 25.309999999999999)\n",
      "('avg length:', 9.1799999999999997)\n",
      "('avg length:', 9.4700000000000006)\n",
      "('avg length:', 99.530000000000001)\n",
      "('avg length:', 200.0)\n",
      "('avg length:', 9.3100000000000005)\n",
      "('avg length:', 48.439999999999998)\n",
      "('avg length:', 9.8300000000000001)\n",
      "('avg length:', 55.259999999999998)\n",
      "('avg length:', 93.209999999999994)\n",
      "('avg length:', 43.630000000000003)\n",
      "('avg length:', 64.140000000000001)\n",
      "('avg length:', 37.909999999999997)\n",
      "('avg length:', 33.079999999999998)\n",
      "('avg length:', 9.4900000000000002)\n",
      "('avg length:', 9.5199999999999996)\n",
      "('avg length:', 28.800000000000001)\n",
      "('avg length:', 42.979999999999997)\n",
      "('avg length:', 115.05)\n",
      "('avg length:', 59.740000000000002)\n",
      "('avg length:', 200.0)\n",
      "('avg length:', 8.8399999999999999)\n",
      "('avg length:', 42.170000000000002)\n",
      "('avg length:', 29.899999999999999)\n",
      "('avg length:', 9.5)\n",
      "('avg length:', 9.5299999999999994)\n",
      "('avg length:', 9.6899999999999995)\n",
      "('avg length:', 74.620000000000005)\n",
      "('avg length:', 9.3599999999999994)\n",
      "('avg length:', 9.7400000000000002)\n",
      "('avg length:', 9.6799999999999997)\n",
      "('avg length:', 75.239999999999995)\n",
      "('avg length:', 9.5399999999999991)\n",
      "('avg length:', 9.6699999999999999)\n",
      "('avg length:', 9.2699999999999996)\n",
      "('avg length:', 9.1500000000000004)\n",
      "('avg length:', 9.5800000000000001)\n",
      "('avg length:', 40.369999999999997)\n",
      "('avg length:', 35.18)\n",
      "('avg length:', 51.079999999999998)\n",
      "('avg length:', 23.309999999999999)\n",
      "('avg length:', 43.950000000000003)\n",
      "('avg length:', 9.1099999999999994)\n",
      "('avg length:', 69.939999999999998)\n",
      "('avg length:', 9.5299999999999994)\n",
      "('avg length:', 28.27)\n",
      "('avg length:', 10.34)\n",
      "('avg length:', 12.960000000000001)\n",
      "('avg length:', 36.649999999999999)\n",
      "('avg length:', 199.84)\n",
      "('avg length:', 9.1099999999999994)\n",
      "('avg length:', 9.2100000000000009)\n",
      "('avg length:', 9.4100000000000001)\n",
      "('avg length:', 9.8200000000000003)\n",
      "('avg length:', 9.2599999999999998)\n",
      "('avg length:', 69.540000000000006)\n",
      "('avg length:', 200.0)\n",
      "('avg length:', 84.659999999999997)\n",
      "('avg length:', 129.46000000000001)\n",
      "('avg length:', 91.599999999999994)\n",
      "('avg length:', 8.9900000000000002)\n",
      "('avg length:', 136.37)\n",
      "('avg length:', 35.950000000000003)\n",
      "('avg length:', 9.6199999999999992)\n",
      "('avg length:', 127.81999999999999)\n",
      "('avg length:', 20.699999999999999)\n",
      "('avg length:', 137.59)\n",
      "('avg length:', 9.3599999999999994)\n",
      "('avg length:', 9.5)\n",
      "('avg length:', 147.12)\n",
      "('avg length:', 148.06)\n",
      "('avg length:', 43.200000000000003)\n",
      "('avg length:', 9.0199999999999996)\n",
      "('avg length:', 9.3100000000000005)\n",
      "('avg length:', 8.9299999999999997)\n",
      "('avg length:', 9.3000000000000007)\n",
      "('avg length:', 86.159999999999997)\n",
      "('avg length:', 9.75)\n",
      "('avg length:', 9.0500000000000007)\n",
      "('avg length:', 154.31999999999999)\n",
      "('avg length:', 9.0399999999999991)\n",
      "('avg length:', 9.4600000000000009)\n",
      "('avg length:', 57.219999999999999)\n",
      "('avg length:', 9.5899999999999999)\n",
      "('avg length:', 51.880000000000003)\n",
      "('avg length:', 9.5299999999999994)\n",
      "('avg length:', 23.52)\n",
      "('avg length:', 151.09)\n",
      "('avg length:', 161.96000000000001)\n",
      "('avg length:', 25.030000000000001)\n"
     ]
    },
    {
     "data": {
      "image/png": "[encoded data removed]",
      "text/plain": [
       "<matplotlib.figure.Figure at 0x10617c510>"
      ]
     },
     "metadata": {},
     "output_type": "display_data"
    },
    {
     "name": "stdout",
     "output_type": "stream",
     "text": [
      "***Final run with final weights***\n"
     ]
    }
   ],
   "source": [
    "if __name__ == '__main__':\n",
    "  env = gym.make('CartPole-v0')\n",
    "  episode_lengths, params = random_search(env)\n",
    "  plt.plot(episode_lengths)\n",
    "  plt.show()\n",
    "\n",
    "  # play a final set of episodes\n",
    "  print(\"***Final run with final weights***\")\n",
    "  play_one_episode(env, params, True)"
   ]
  },
  {
   "cell_type": "markdown",
   "metadata": {
    "collapsed": true
   },
   "source": [
    "\n",
    "This example is based off the lessons provided by the Lazy Programmers course Advanced AI:Deep Reinforcement Learning. \n",
    "https://www.udemy.com/deep-reinforcement-learning-in-python/"
   ]
  },
  {
   "cell_type": "code",
   "execution_count": null,
   "metadata": {
    "collapsed": true
   },
   "outputs": [],
   "source": []
  }
 ],
 "metadata": {
  "kernelspec": {
   "display_name": "Python 2",
   "language": "python",
   "name": "python2"
  },
  "language_info": {
   "codemirror_mode": {
    "name": "ipython",
    "version": 2
   },
   "file_extension": ".py",
   "mimetype": "text/x-python",
   "name": "python",
   "nbconvert_exporter": "python",
   "pygments_lexer": "ipython2",
   "version": "2.7.13"
  }
 },
 "nbformat": 4,
 "nbformat_minor": 2
}
